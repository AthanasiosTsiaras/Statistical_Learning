{
 "cells": [
  {
   "cell_type": "markdown",
   "metadata": {},
   "source": [
    "# Why invest in Lebanese Restaurants in Toronto, ON?"
   ]
  },
  {
   "cell_type": "markdown",
   "metadata": {},
   "source": [
    "## 1. Business problem introduction"
   ]
  },
  {
   "cell_type": "markdown",
   "metadata": {},
   "source": [
    "The world-famous Lebanese food chain Lebana-Food want to expand their business in Toronto, Canada.  \n",
    "From this project it is inferred that there are not many Lebanese places to eat in Canada,  \n",
    "so this seems like a great opportunity for the company.  \n",
    "\n",
    "However, they most important think that their CEO wants to know is where are the most restaurants in Toronto,\n",
    "and especially those that are the most competing kinds like Chinese, Indian, Greek and Italian  \n",
    "It is of great importance to the upper-management to know exactly where the competing restaurants are,\n",
    "so they can decide where to open the new Lebanese places.  \n",
    "\n",
    "A business research like this one can be very interesting for entrepreneurs in the restaurant business  \n",
    "that want to know about popular restaurants on specific neighborhoods "
   ]
  },
  {
   "cell_type": "markdown",
   "metadata": {},
   "source": [
    "## 2. Discussion on Data"
   ]
  },
  {
   "cell_type": "markdown",
   "metadata": {},
   "source": [
    "Data obtained through the Foursquare. API, with personal account credentials.  \n",
    "Before the methodology was applied to the data, the data had to be cleaned.  \n",
    "The Foursquare.API contains many information, but not all of them are useful for this . \n",
    "particular project, nor they are downloaded on an easy to handle type. So, the unnecessary columns  \n",
    "were discarded, and the useful information were inserted in Pandas data frames that are useful for analysis.\n",
    "\n"
   ]
  },
  {
   "cell_type": "markdown",
   "metadata": {},
   "source": [
    "## 3. Methodology"
   ]
  },
  {
   "cell_type": "markdown",
   "metadata": {},
   "source": [
    "In order to solve the problem the data four queries were made and four dataframes were created, one for each type of competing restaurant.    \n",
    "Each dataset has important information about individual restaurants of each kind, as well  \n",
    "as geospatial information, necessary to visualize them.\n",
    "\n",
    "By making a visualization of the map of Toronto that contains marks about every type of competing restaurant and are colored accordingly,  \n",
    "the management of the Lebanese foodchain had powerful information at hand, that will help on future decision-making.\n",
    "\n",
    "In addition to that, using again data from Foursquare, data about the most common type of shop in each neighborhood were obtained.  \n",
    "This is going to be very helpful in determining not only what other restaurants are there, but also what other kinds of shops are popular  \n",
    "in the area"
   ]
  },
  {
   "cell_type": "markdown",
   "metadata": {},
   "source": [
    "## 4. Results"
   ]
  },
  {
   "cell_type": "markdown",
   "metadata": {},
   "source": [
    "The results were very encouraging for the company as, not only there no Lebanese Restaurants in Toronto, only Lebanese fast-food joints,  \n",
    "but also there are neighborhoods with great investement potential."
   ]
  },
  {
   "cell_type": "markdown",
   "metadata": {},
   "source": [
    "## 5. Discussion"
   ]
  },
  {
   "cell_type": "markdown",
   "metadata": {},
   "source": [
    "The company are thinking of re-using this algorithm for other major Canadian cities, so that they can determine if there is investement potential\n",
    "elsewhere"
   ]
  },
  {
   "cell_type": "markdown",
   "metadata": {},
   "source": [
    "## 6. Conclusion"
   ]
  },
  {
   "cell_type": "markdown",
   "metadata": {},
   "source": [
    "The most important aim of this project was to create an alogirthm that can leverage geospatial data from Foursquare API, and also  \n",
    "answer an interesting business proble. Both were addressed and results were produces. Hope you enjoyed. Thank you!"
   ]
  },
  {
   "cell_type": "code",
   "execution_count": null,
   "metadata": {},
   "outputs": [],
   "source": []
  }
 ],
 "metadata": {
  "kernelspec": {
   "display_name": "Python 3",
   "language": "python",
   "name": "python3"
  },
  "language_info": {
   "codemirror_mode": {
    "name": "ipython",
    "version": 3
   },
   "file_extension": ".py",
   "mimetype": "text/x-python",
   "name": "python",
   "nbconvert_exporter": "python",
   "pygments_lexer": "ipython3",
   "version": "3.6.5"
  }
 },
 "nbformat": 4,
 "nbformat_minor": 2
}
